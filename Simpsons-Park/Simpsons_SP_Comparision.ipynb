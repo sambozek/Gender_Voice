{
 "cells": [
  {
   "cell_type": "markdown",
   "metadata": {},
   "source": [
    "# Simpsons and Southpark\n",
    "## Their First Episodes\n",
    "\n",
    "*The Simpsons* and *South Park* are two of the best known animated comedies out there. They also couldn't be more different. South Park is known for leaving nothing untouched, and . Along with a crass sense of humor (that has evolved over the years) South Park has been growing in popularity. The Simpsons, has been known for it's focus on the shenanigans of the Simpsons family. The humor is more light hearted, with slight jabs but nothing too cruel. An example of the differences between the two series can be explained by looking at their first episodes.\n",
    "\n",
    "*The Simpsons* had it's first full length episode aired on December 17th, 1989. Titled, 'Simpsons Roasting on an Open Fire' it starts with Homer Simpson not getting a Christmas Bonus and having to then spend his Christmas money on removing a tattoo his son, Bart got. As Christmas Eve comes to a close he goes to bet on the dog races and instead ends up adopting one of the racing dogs with his family. \n",
    "\n",
    "*South Park*'s first episode, 'Cartman Gets an Anal Probe' involves one of the characters, Cartman, having an anal probe that communicates with a UFO, another character, Kyle, has his brother kidnapped by the same aliens. It involes flammable farts, death, and as the title suggests, anal probes.\n",
    "\n",
    "The reason these two episodes are so interesting to explore with NLP is because they are both known for being referenced through the culture war. South Park was the antithesis of this culture war, focused on being offensive. The Simpsons, by contrast, is about a family trying to do right as they go through trials. Although later episodes of the Simposons would be criticized by "
   ]
  },
  {
   "cell_type": "code",
   "execution_count": 1,
   "metadata": {
    "collapsed": false
   },
   "outputs": [],
   "source": [
    "simpsons_url= \"http://simpsons-scripts.wikidot.com/simpsons-roasting-on-an-open-fire\"\n",
    "southpark_url = 'http://www.springfieldspringfield.co.uk/view_episode_scripts.php?tv-show=south-park&episode=s01e01'"
   ]
  },
  {
   "cell_type": "code",
   "execution_count": 2,
   "metadata": {
    "collapsed": true
   },
   "outputs": [],
   "source": [
    "simpsons_xpath = \"/html/body[@id='html-body']/div[@id='skrollr-body']/div[@id='container-wrap-wrap']/div[@id='container-wrap']/div[@id='container']/div[@id='content-wrap']/div[@id='main-content']/div[@id='page-content']/p//text()\"\n",
    "southpark_xpath = \"/html/body[@class=' hasGoogleVoiceExt']/div[@class='wrapper']/div[@id='content_container']/div[@class='main-content']/div[@class='main-content-left']/div[@class='episode_script']/div//text()\""
   ]
  },
  {
   "cell_type": "code",
   "execution_count": 3,
   "metadata": {
    "collapsed": false
   },
   "outputs": [],
   "source": [
    "import requests\n",
    "from lxml import html\n",
    "\n",
    "simpsons = requests.get(simpsons_url)\n",
    "southpark = requests.get(southpark_url)"
   ]
  },
  {
   "cell_type": "code",
   "execution_count": 4,
   "metadata": {
    "collapsed": false
   },
   "outputs": [],
   "source": [
    "simpsons_tree = html.fromstring(simpsons.content)\n",
    "southpark_text = html.fromstring(southpark.content)\n",
    "\n",
    "# grab the scripts using the above xpaths.\n",
    "simpsons = simpsons_tree.xpath(simpsons_xpath)"
   ]
  },
  {
   "cell_type": "code",
   "execution_count": 5,
   "metadata": {
    "collapsed": false
   },
   "outputs": [],
   "source": [
    "speakers = [x.strip().replace(':',\"\") for x in simpsons if x.strip()[-1] == ':']\n",
    "dialog = [simpsons[i+1].strip() for i in range(len(simpsons)) if simpsons[i][-1] == ':'] "
   ]
  },
  {
   "cell_type": "code",
   "execution_count": 6,
   "metadata": {
    "collapsed": false
   },
   "outputs": [],
   "source": [
    "import pandas as pd"
   ]
  },
  {
   "cell_type": "code",
   "execution_count": 7,
   "metadata": {
    "collapsed": false
   },
   "outputs": [],
   "source": [
    "simpsons_script = pd.DataFrame({'dialog' : dialog, 'speaker' : speakers,})"
   ]
  },
  {
   "cell_type": "code",
   "execution_count": 8,
   "metadata": {
    "collapsed": false
   },
   "outputs": [
    {
     "data": {
      "text/plain": [
       "Homer          107\n",
       "Bart            47\n",
       "Marge           41\n",
       "Patty           17\n",
       "Lisa            15\n",
       "Lady             8\n",
       "Barney           8\n",
       "Flanders         7\n",
       "Selma            6\n",
       "Teacher          5\n",
       "Man              5\n",
       "All              5\n",
       "Manager          3\n",
       "Grandpa          3\n",
       "Skinner          3\n",
       "Doctor           3\n",
       "Announcer        3\n",
       "Class            2\n",
       "Moe              2\n",
       "Girl             2\n",
       "Milhouse         2\n",
       "Boy              2\n",
       "Todd             2\n",
       "Clerk            2\n",
       "Mr. Burns        1\n",
       "Bart & Lisa      1\n",
       "Dad              1\n",
       "Mr. Largo        1\n",
       "Lewis            1\n",
       "Smithers         1\n",
       "Kid              1\n",
       "Name: speaker, dtype: int64"
      ]
     },
     "execution_count": 8,
     "metadata": {},
     "output_type": "execute_result"
    }
   ],
   "source": [
    "simpsons_script.speaker.value_counts()"
   ]
  },
  {
   "cell_type": "code",
   "execution_count": 9,
   "metadata": {
    "collapsed": true
   },
   "outputs": [],
   "source": [
    "from textblob import TextBlob"
   ]
  },
  {
   "cell_type": "code",
   "execution_count": 10,
   "metadata": {
    "collapsed": false
   },
   "outputs": [],
   "source": [
    "simpsons_script['polarity'] = simpsons_script.apply(lambda x: TextBlob(x['dialog']).sentiment.polarity, axis=1)\n",
    "simpsons_script['subjectivity'] = simpsons_script.apply(lambda x: TextBlob(x['dialog']).sentiment.subjectivity, axis=1)"
   ]
  },
  {
   "cell_type": "code",
   "execution_count": 11,
   "metadata": {
    "collapsed": false
   },
   "outputs": [
    {
     "data": {
      "text/html": [
       "<div>\n",
       "<table border=\"1\" class=\"dataframe\">\n",
       "  <thead>\n",
       "    <tr style=\"text-align: right;\">\n",
       "      <th></th>\n",
       "      <th>dialog</th>\n",
       "      <th>speaker</th>\n",
       "      <th>polarity</th>\n",
       "      <th>subjectivity</th>\n",
       "    </tr>\n",
       "  </thead>\n",
       "  <tbody>\n",
       "    <tr>\n",
       "      <th>0</th>\n",
       "      <td>Ooh! Careful, Homer!</td>\n",
       "      <td>Marge</td>\n",
       "      <td>-0.125</td>\n",
       "      <td>1.000</td>\n",
       "    </tr>\n",
       "    <tr>\n",
       "      <th>1</th>\n",
       "      <td>There's no time. We're late.</td>\n",
       "      <td>Homer</td>\n",
       "      <td>-0.300</td>\n",
       "      <td>0.600</td>\n",
       "    </tr>\n",
       "    <tr>\n",
       "      <th>2</th>\n",
       "      <td>How still we see the elie…</td>\n",
       "      <td>Class</td>\n",
       "      <td>0.000</td>\n",
       "      <td>0.000</td>\n",
       "    </tr>\n",
       "    <tr>\n",
       "      <th>3</th>\n",
       "      <td>Sorry. Excuse me. Pardon me. Sorry. Excuse me.</td>\n",
       "      <td>Marge</td>\n",
       "      <td>-0.275</td>\n",
       "      <td>0.525</td>\n",
       "    </tr>\n",
       "    <tr>\n",
       "      <th>4</th>\n",
       "      <td>Hey, Norman, how's it goin'? So you got dragge...</td>\n",
       "      <td>Homer</td>\n",
       "      <td>0.000</td>\n",
       "      <td>0.000</td>\n",
       "    </tr>\n",
       "  </tbody>\n",
       "</table>\n",
       "</div>"
      ],
      "text/plain": [
       "                                              dialog speaker  polarity  \\\n",
       "0                               Ooh! Careful, Homer!   Marge    -0.125   \n",
       "1                       There's no time. We're late.   Homer    -0.300   \n",
       "2                         How still we see the elie…   Class     0.000   \n",
       "3     Sorry. Excuse me. Pardon me. Sorry. Excuse me.   Marge    -0.275   \n",
       "4  Hey, Norman, how's it goin'? So you got dragge...   Homer     0.000   \n",
       "\n",
       "   subjectivity  \n",
       "0         1.000  \n",
       "1         0.600  \n",
       "2         0.000  \n",
       "3         0.525  \n",
       "4         0.000  "
      ]
     },
     "execution_count": 11,
     "metadata": {},
     "output_type": "execute_result"
    }
   ],
   "source": [
    "simpsons_script.head()"
   ]
  },
  {
   "cell_type": "code",
   "execution_count": 13,
   "metadata": {
    "collapsed": true
   },
   "outputs": [
    {
     "data": {
      "text/plain": [
       "<matplotlib.axes._subplots.AxesSubplot at 0x10cabad68>"
      ]
     },
     "execution_count": 13,
     "metadata": {},
     "output_type": "execute_result"
    },
    {
     "data": {
      "image/png": "[encoded data removed]",
      "text/plain": [
       "<matplotlib.figure.Figure at 0x10cd20b38>"
      ]
     },
     "metadata": {},
     "output_type": "display_data"
    }
   ],
   "source": [
    "%matplotlib inline\n",
    "%\n",
    "simpsons_script['polarity'].plot()"
   ]
  },
  {
   "cell_type": "code",
   "execution_count": null,
   "metadata": {},
   "outputs": [],
   "source": []
  }
 ],
 "metadata": {
  "kernelspec": {
   "display_name": "Python 3",
   "language": "python",
   "name": "python3"
  },
  "language_info": {
   "codemirror_mode": {
    "name": "ipython",
    "version": 3
   },
   "file_extension": ".py",
   "mimetype": "text/x-python",
   "name": "python",
   "nbconvert_exporter": "python",
   "pygments_lexer": "ipython3",
   "version": "3.5.1"
  }
 },
 "nbformat": 4,
 "nbformat_minor": 1
}
